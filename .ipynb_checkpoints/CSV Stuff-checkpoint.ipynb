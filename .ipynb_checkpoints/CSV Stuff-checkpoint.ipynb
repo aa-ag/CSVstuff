{
 "cells": [
  {
   "cell_type": "code",
   "execution_count": 3,
   "metadata": {},
   "outputs": [],
   "source": [
    "import csv"
   ]
  },
  {
   "cell_type": "code",
   "execution_count": 4,
   "metadata": {},
   "outputs": [],
   "source": [
    "with open('/Users/aaronaguerrevere/Desktop/Google Stock Market Data - google_stock_data.csv.csv', 'r') as data:\n",
    "    csv_dict_reader = csv.DictReader(data)\n",
    "    \n",
    "#     for row in csv_dict_reader:\n",
    "#         print(row['Date'])\n",
    "    "
   ]
  },
  {
   "cell_type": "code",
   "execution_count": 5,
   "metadata": {},
   "outputs": [
    {
     "name": "stdout",
     "output_type": "stream",
     "text": [
      "587.34\n"
     ]
    }
   ],
   "source": [
    "with open('/Users/aaronaguerrevere/Desktop/Google Stock Market Data - google_stock_data.csv.csv', 'r') as data:\n",
    "    csv_dict_reader = csv.DictReader(data)\n",
    "    \n",
    "    for row in csv_dict_reader:\n",
    "#         print(row['Date'])\n",
    "        if row['Date'] == '8/19/2014':\n",
    "            print(round(float(row['High']), 2))\n",
    "    "
   ]
  },
  {
   "cell_type": "code",
   "execution_count": 6,
   "metadata": {},
   "outputs": [],
   "source": [
    "with open('/Users/aaronaguerrevere/Desktop/Google Stock Market Data - google_stock_data.csv.csv', 'r') as data:\n",
    "    csv_dict_reader = csv.DictReader(data)\n",
    "    \n",
    "    for row in csv_dict_reader:\n",
    "#         print(row['Date'])\n",
    "        if float(row['High']) < 100:\n",
    "            print(row['Date'])"
   ]
  },
  {
   "cell_type": "code",
   "execution_count": 7,
   "metadata": {},
   "outputs": [
    {
     "name": "stdout",
     "output_type": "stream",
     "text": [
      "[{'date': '3/7/2014', 'open': '1226.802152', 'high': '1226.992071'}, {'date': '3/6/2014', 'open': '1222.282091', 'high': '1226.152141'}, {'date': '3/5/2014', 'open': '1215.052078', 'high': '1223.082077'}, {'date': '2/28/2014', 'open': '1220.342104', 'high': '1224.192059'}, {'date': '2/27/2014', 'open': '1218.39207', 'high': '1224.232126'}, {'date': '2/26/2014', 'open': '1224.002141', 'high': '1228.882066'}, {'date': '2/25/2014', 'open': '1215.942121', 'high': '1224.502055'}, {'date': '2/24/2014', 'open': '1205.362067', 'high': '1220.162111'}]\n"
     ]
    }
   ],
   "source": [
    "with open('/Users/aaronaguerrevere/Desktop/Google Stock Market Data - google_stock_data.csv.csv', 'r') as data:\n",
    "    csv_dict_reader = csv.DictReader(data)\n",
    "    \n",
    "    higher_than_1220 = []\n",
    "    \n",
    "    for row in csv_dict_reader:\n",
    "        if float(row['High']) > 1220:\n",
    "            higher_than_1220.append({\n",
    "                'date': row['Date'],\n",
    "                'open': row['Open'],\n",
    "                'high': row['High'],\n",
    "            })\n",
    "print(higher_than_1220)\n",
    "\n",
    "with open('/Users/aaronaguerrevere/Desktop/Google Stock Market Data - higherthan1220.csv',\n",
    "          'w',\n",
    "          newline=''\n",
    "         ) as higher_than_1220_csv:\n",
    "    \n",
    "    fieldnames = ['date', 'open', 'high']\n",
    "    csv_dict_writer = csv.DictWriter(higher_than_1220_csv, fieldnames=fieldnames)\n",
    "    csv_dict_writer.writeheader()\n",
    "    \n",
    "    for day in higher_than_1220:\n",
    "        csv_dict_writer.writerow(day)\n",
    "\n"
   ]
  },
  {
   "cell_type": "code",
   "execution_count": 16,
   "metadata": {},
   "outputs": [
    {
     "name": "stdout",
     "output_type": "stream",
     "text": [
      "3/7/2014 1226.99\n",
      "3/6/2014 1226.15\n",
      "3/5/2014 1223.08\n",
      "2/28/2014 1224.19\n",
      "2/27/2014 1224.23\n",
      "2/26/2014 1228.88\n",
      "2/25/2014 1224.5\n",
      "2/24/2014 1220.16\n"
     ]
    }
   ],
   "source": [
    "with open('/Users/aaronaguerrevere/Desktop/Google Stock Market Data - google_stock_data.csv.csv', 'r') as data:\n",
    "    csv_dict_reader = csv.DictReader(data)\n",
    "    \n",
    "    higher_than_1220 = []\n",
    "    \n",
    "    for row in csv_dict_reader:\n",
    "        if float(row['High']) > 1220:\n",
    "            higher_than_1220.append({\n",
    "                'date': row['Date'],\n",
    "                'open': row['Open'],\n",
    "                'high': row['High'],\n",
    "            })\n",
    "\n",
    "for i in higher_than_1220:\n",
    "    print(i['date'], round(float(i['high']), 2))"
   ]
  },
  {
   "cell_type": "code",
   "execution_count": null,
   "metadata": {},
   "outputs": [],
   "source": []
  }
 ],
 "metadata": {
  "kernelspec": {
   "display_name": "Python 3",
   "language": "python",
   "name": "python3"
  },
  "language_info": {
   "codemirror_mode": {
    "name": "ipython",
    "version": 3
   },
   "file_extension": ".py",
   "mimetype": "text/x-python",
   "name": "python",
   "nbconvert_exporter": "python",
   "pygments_lexer": "ipython3",
   "version": "3.7.6"
  }
 },
 "nbformat": 4,
 "nbformat_minor": 4
}
